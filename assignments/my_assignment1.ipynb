{
 "cells": [
  {
   "cell_type": "markdown",
   "metadata": {},
   "source": [
    "# Deep Learning assignment #1"
   ]
  },
  {
   "cell_type": "markdown",
   "metadata": {},
   "source": [
    "### Learning mirror symmetries in 6-digits numbers"
   ]
  },
  {
   "cell_type": "markdown",
   "metadata": {},
   "source": [
    "Let us reproduce the experiment reported in the figure below"
   ]
  },
  {
   "cell_type": "code",
   "execution_count": 22,
   "metadata": {},
   "outputs": [],
   "source": [
    "import numpy as np\n",
    "import torch as th\n",
    "from torch.utils.data import Dataset\n",
    "from torch.utils.data import DataLoader\n",
    "from torch import Tensor\n",
    "from matplotlib import pyplot as plt\n",
    "from icecream import ic\n",
    "import random\n",
    "import itertools\n",
    "from tqdm.auto import trange\n",
    "from ebtorch.nn.utils import eval_model_on_test\n",
    "\n",
    "from typing import List"
   ]
  },
  {
   "cell_type": "code",
   "execution_count": 23,
   "metadata": {},
   "outputs": [],
   "source": [
    "INPUT_SIZE = 6\n",
    "OUTPUT_SIZE = 1\n",
    "DATASET_SIZE = 1000\n",
    "TRAIN_BATCH_SIZE = 1\n",
    "SYMMETRY_PERC = 50\n",
    "DEVICE_AUTODETECT: bool = True\n",
    "CRITERION = th.nn.MSELoss()\n",
    "NUM_ACCUMULATION_STEPS = 64"
   ]
  },
  {
   "cell_type": "code",
   "execution_count": 24,
   "metadata": {},
   "outputs": [],
   "source": [
    "# Let's detect and select the most appropriate device\n",
    "device: th.device = th.device(\n",
    "    \"cuda\" if th.cuda.is_available() and DEVICE_AUTODETECT else \"cpu\"\n",
    ")"
   ]
  },
  {
   "cell_type": "markdown",
   "metadata": {},
   "source": [
    "## Creating dataset"
   ]
  },
  {
   "cell_type": "markdown",
   "metadata": {},
   "source": [
    "According to the paper, the model is trained on 1425 sweeps through the **set of 64 possible input vectors**. Therefore, a first implementation was based on the generation and training over this set. The vectors contain either 0s or 1s, but the dataset dtype is `th.float32` for compatibility with `Pytorch`'s utils.\n",
    "\n",
    "The problem with this approach, however, is that there are only 8 symmetric combinations in the training dataset, i.e. only 12.5% of the vectors represent the symmetric class. This is a typical *data imbalance* problem, which was solved by creating a custom dataset of vectors containing a **given percentage of symmetric vectors**. In particular, the `SYMMETRY_PERC` constant is needed to specify this percentage. If this is not done, the model doesn't learn how to deal with the least represented class but the accuracy will remain high. In fact, if we denote by $p$ the number of data points of the most frequent class and by $n$ the lenght of the dataset, the accuracy will be equal to $\\frac{p}{n}$ if the model always predicts the frequent class. In this specific case $\\frac{p}{n} = 0.875$"
   ]
  },
  {
   "cell_type": "code",
   "execution_count": 43,
   "metadata": {},
   "outputs": [],
   "source": [
    "# Generating sets of symmetric and not symmetric vectors\n",
    "vectors = list(itertools.product([0, 1], repeat=6))\n",
    "symmetric_vectors = [vector for vector in vectors if vector[:3] == vector[3:][::-1]]\n",
    "not_symmetric_vectors = [vector for vector in vectors if vector not in symmetric_vectors]"
   ]
  },
  {
   "cell_type": "code",
   "execution_count": 26,
   "metadata": {},
   "outputs": [],
   "source": [
    "np.random.seed(42) # For reproducibility\n",
    "\n",
    "class SymDetDataset(Dataset):\n",
    "    \"\"\"Symmetry Detector Dataset: generates random vectors and labels them as symmetric or not\n",
    "    \n",
    "    Args:\n",
    "        tot_size (int): total number of samples to generate\n",
    "        sym_percentage (int): percentage of symmetric vectors to generate\n",
    "    \"\"\"\n",
    "\n",
    "    def __init__(self, tot_size = 100, sym_percentage: th.int =50):\n",
    "        data = [], labels = []\n",
    "\n",
    "        if sym_percentage <0 or sym_percentage > 100:\n",
    "            print(\"Error: invalid 'sym_percentage' parameter value. Should be number between 0 and 100.\")   # Just a little debug print\n",
    "\n",
    "        for _ in range(tot_size):\n",
    "            n = np.random.rand(1)*100\n",
    "            if n <= sym_percentage:\n",
    "                vector = random.choice(symmetric_vectors)\n",
    "            else:\n",
    "                vector = random.choice(not_symmetric_vectors)\n",
    "\n",
    "            data.append(vector)\n",
    "            labels.append(int(np.array_equal(vector[:3], vector[3:][::-1])))\n",
    "\n",
    "        data = np.array(data)\n",
    "        self.data = th.tensor(data).to(th.float32)      # Conversion for PyTorch compatibility\n",
    "        self.labels = th.tensor(labels).to(th.float32)\n",
    "\n",
    "    def __len__(self):      # Required methods for PyTorch Dataset\n",
    "        return len(self.data)\n",
    "\n",
    "    def __getitem__(self, index):\n",
    "        sample = self.data[index]\n",
    "        label = self.labels[index]\n",
    "        return sample, label"
   ]
  },
  {
   "cell_type": "code",
   "execution_count": 27,
   "metadata": {},
   "outputs": [],
   "source": [
    "# Dataset which contains all possible combinations of 6 binary digits\n",
    "class AllPossibleVectorsDataset(Dataset):\n",
    "    \"\"\"AllPossibleVectorsDataset: generates all possible combinations of 6 binary digits and labels them as symmetric or not.\"\"\"\n",
    "\n",
    "    def __init__(self):\n",
    "        data = []\n",
    "        labels = []\n",
    "\n",
    "        # Generate all possible combinations of 6 binary digits\n",
    "        for vector in itertools.product([0, 1], repeat=6):\n",
    "            data.append(vector)\n",
    "            labels.append(int(np.array_equal(vector[:3], vector[3:][::-1])))\n",
    "\n",
    "        data = np.array(data)\n",
    "        self.data = th.tensor(data).to(th.float32)      # Conversion for PyTorch compatibility\n",
    "        self.labels = th.tensor(labels).to(th.float32)\n",
    "\n",
    "    def __len__(self):  # Required methods for PyTorch Dataset\n",
    "        return len(self.data)\n",
    "        return len(self.data)\n",
    "\n",
    "    def __getitem__(self, index):\n",
    "        sample = self.data[index]\n",
    "        label = self.labels[index]\n",
    "        return sample, label"
   ]
  },
  {
   "cell_type": "markdown",
   "metadata": {},
   "source": [
    "The following cell is to use the SymDetDataset datasest generator"
   ]
  },
  {
   "cell_type": "code",
   "execution_count": 28,
   "metadata": {},
   "outputs": [],
   "source": [
    "train_dataset = SymDetDataset(tot_size=DATASET_SIZE, sym_percentage=SYMMETRY_PERC)\n",
    "train_loader = DataLoader(train_dataset, batch_size=TRAIN_BATCH_SIZE, shuffle=True)\n",
    "\n",
    "test_dataset = SymDetDataset(tot_size=int(DATASET_SIZE * 0.2), sym_percentage=50)\n",
    "test_loader = DataLoader(test_dataset, batch_size=TRAIN_BATCH_SIZE, shuffle=True)"
   ]
  },
  {
   "cell_type": "markdown",
   "metadata": {},
   "source": [
    "The following cell is to use the AllPossibleVectorsDataset dataset generator"
   ]
  },
  {
   "cell_type": "code",
   "execution_count": 29,
   "metadata": {},
   "outputs": [],
   "source": [
    "# train_dataset = AllPossibleVectorsDataset()\n",
    "# train_loader = DataLoader(train_dataset, batch_size=TRAIN_BATCH_SIZE, shuffle=False)\n",
    "\n",
    "# test_dataset = AllPossibleVectorsDataset()\n",
    "# test_loader = DataLoader(test_dataset, batch_size=TRAIN_BATCH_SIZE, shuffle=False)"
   ]
  },
  {
   "cell_type": "markdown",
   "metadata": {},
   "source": [
    "## Model definition"
   ]
  },
  {
   "cell_type": "markdown",
   "metadata": {},
   "source": [
    "<div>\n",
    "<img src=\"./images/fig1.png\" width=\"500\"/>\n",
    "</div>"
   ]
  },
  {
   "cell_type": "markdown",
   "metadata": {},
   "source": [
    "The model in the figure above contains 2 hidden units"
   ]
  },
  {
   "cell_type": "code",
   "execution_count": 31,
   "metadata": {},
   "outputs": [],
   "source": [
    "class SymmetryDetector(th.nn.Module):\n",
    "    def __init__(self, final_threshold: float = 0.5):\n",
    "        super().__init__()\n",
    "        self.final_threshold = final_threshold\n",
    "\n",
    "        self.h1: th.nn.Module = th.nn.Linear(\n",
    "            in_features=INPUT_SIZE, out_features=OUTPUT_SIZE, bias=True)\n",
    "        self.h2: th.nn.Module = th.nn.Linear(\n",
    "            in_features=INPUT_SIZE, out_features=OUTPUT_SIZE, bias=True)\n",
    "        self.h3: th.nn.Module = th.nn.Linear(\n",
    "            in_features=2*OUTPUT_SIZE, out_features=OUTPUT_SIZE, bias=True)\n",
    "\n",
    "    def forward(self, x_: th.Tensor) -> th.float:\n",
    "        x1 = self.h1(x_)\n",
    "        y1 = th.nn.functional.sigmoid(x1)\n",
    "        x2 = self.h2(x_)\n",
    "        y2 = th.nn.functional.sigmoid(x2)\n",
    "\n",
    "        y = self.h3(th.cat((y1, y2), dim=1))\n",
    "        y = th.nn.functional.sigmoid(y) # Final sigmoid to get the output in [0,1]\n",
    "\n",
    "        return y"
   ]
  },
  {
   "cell_type": "code",
   "execution_count": 32,
   "metadata": {},
   "outputs": [],
   "source": [
    "model = SymmetryDetector().to(device)"
   ]
  },
  {
   "cell_type": "markdown",
   "metadata": {},
   "source": [
    "## Weights initialization"
   ]
  },
  {
   "cell_type": "code",
   "execution_count": 33,
   "metadata": {},
   "outputs": [
    {
     "data": {
      "text/plain": [
       "SymmetryDetector(\n",
       "  (h1): Linear(in_features=6, out_features=1, bias=True)\n",
       "  (h2): Linear(in_features=6, out_features=1, bias=True)\n",
       "  (h3): Linear(in_features=2, out_features=1, bias=True)\n",
       ")"
      ]
     },
     "execution_count": 33,
     "metadata": {},
     "output_type": "execute_result"
    }
   ],
   "source": [
    "# Define the custom weight initialization function\n",
    "def init_weights_uniform_custom_range(m):\n",
    "    if isinstance(m, th.nn.Linear):\n",
    "        # Define the custom range for the uniform distribution\n",
    "        custom_range_min = -0.3\n",
    "        custom_range_max = 0.3\n",
    "        # Apply uniform initialization to the weights of the linear layer\n",
    "        th.nn.init.uniform_(m.weight, a=custom_range_min, b=custom_range_max)\n",
    "        # Initialize biases, if present\n",
    "        if m.bias is not None:\n",
    "            th.nn.init.constant_(m.bias, 0.0)\n",
    "\n",
    "\n",
    "model.apply(init_weights_uniform_custom_range)"
   ]
  },
  {
   "cell_type": "code",
   "execution_count": 34,
   "metadata": {},
   "outputs": [
    {
     "name": "stdout",
     "output_type": "stream",
     "text": [
      "Layer: h1.weight | Dtype: torch.float32  | tensor([[-0.1635, -0.1920, -0.0583, -0.1381,  0.2884,  0.2221]])\n",
      "Layer: h1.bias | Dtype: torch.float32  | tensor([0.])\n",
      "Layer: h2.weight | Dtype: torch.float32  | tensor([[-0.1140,  0.2253, -0.2803,  0.0801,  0.2731,  0.2408]])\n",
      "Layer: h2.bias | Dtype: torch.float32  | tensor([0.])\n",
      "Layer: h3.weight | Dtype: torch.float32  | tensor([[0.1110, 0.2634]])\n",
      "Layer: h3.bias | Dtype: torch.float32  | tensor([0.])\n"
     ]
    }
   ],
   "source": [
    "for name, param in model.named_parameters():\n",
    "    print(f\"Layer: {name} | Dtype: {param.dtype}  | {param.data}\")"
   ]
  },
  {
   "cell_type": "markdown",
   "metadata": {},
   "source": [
    "## Loss function"
   ]
  },
  {
   "cell_type": "code",
   "execution_count": 35,
   "metadata": {},
   "outputs": [],
   "source": [
    "loss: th.nn.Module = th.nn.MSELoss()"
   ]
  },
  {
   "cell_type": "code",
   "execution_count": 36,
   "metadata": {},
   "outputs": [],
   "source": [
    "eps = 0.1\n",
    "alpha = 0.9\n",
    "n_sweeps = 1425"
   ]
  },
  {
   "cell_type": "markdown",
   "metadata": {},
   "source": [
    "## Optimizer"
   ]
  },
  {
   "cell_type": "markdown",
   "metadata": {},
   "source": [
    "### No momentum"
   ]
  },
  {
   "cell_type": "code",
   "execution_count": 37,
   "metadata": {},
   "outputs": [],
   "source": [
    "optimizer: th.optim.Optimizer = th.optim.SGD(params=model.parameters(), momentum=0, lr=alpha)"
   ]
  },
  {
   "cell_type": "markdown",
   "metadata": {},
   "source": [
    "![image](./images/parameters.png) "
   ]
  },
  {
   "cell_type": "markdown",
   "metadata": {},
   "source": [
    "### The (actual) training loop\n",
    "In our case the model is trained on **the set of 64 possible input vectors**. Therefore, there each batch contains one of the 64 elements (in order) and the gradient is accumulated when this *sweep* is finished, i.e. when all 64 batches (and input vectors) are seen by the model.\n",
    "\n",
    "```\n",
    "Loop over epochs:\n",
    "    Loop over possible vectors:\n",
    "        Perform a forward pass\n",
    "        Compute the loss on current point\n",
    "        Accumulate gradient calculated on current point\n",
    "    Update model parameters based on accumulated gradient\n",
    "```"
   ]
  },
  {
   "cell_type": "markdown",
   "metadata": {},
   "source": [
    "Using the same data as the experiment in the paper:\n",
    "- 1425 sweeps throught the set of 64 possible input vectors\n",
    "- accumulate gradient using $\\Delta w(t) = -\\epsilon \\frac{\\delta E}{\\delta w(t)} + \\alpha \\Delta w (t-1)$\n",
    "  - where $t$ is incremented by 1 at each sweep\n",
    "  - $\\alpha = 0.9$\n",
    "  - $\\epsilon = 0.1$"
   ]
  },
  {
   "cell_type": "markdown",
   "metadata": {},
   "source": [
    "## Training"
   ]
  },
  {
   "cell_type": "code",
   "execution_count": 38,
   "metadata": {},
   "outputs": [
    {
     "name": "stderr",
     "output_type": "stream",
     "text": [
      "Training epoch: 100%|██████████| 1425/1425 [00:53<00:00, 26.71it/s]\n"
     ]
    }
   ],
   "source": [
    "eval_losses: List[float] = []\n",
    "eval_acc: List[float] = []\n",
    "test_acc: List[float] = []\n",
    "\n",
    "\n",
    "for epoch in trange(n_sweeps, desc=\"Training epoch\"):\n",
    "    total_loss = 0.0\n",
    "    model.train()\n",
    "\n",
    "    optimizer.zero_grad() # Reset the gradients for next accumulation\n",
    "    for batch_idx, batch in enumerate(train_loader):\n",
    "        x, y = batch\n",
    "        x, y = x.to(device), y.to(device)\n",
    "        yhat = model(x)\n",
    "        # prediction = (yhat >= model.final_threshold).float()\n",
    "        # loss = CRITERION(prediction, y)\n",
    "        loss = CRITERION(yhat, y)\n",
    "        loss = loss / NUM_ACCUMULATION_STEPS\n",
    "        loss.backward()\n",
    "        \n",
    "        if (batch_idx + 1) % NUM_ACCUMULATION_STEPS == 0:\n",
    "            optimizer.step()\n",
    "            optimizer.zero_grad() # Reset the gradients for next accumulation\n",
    "    \n",
    "    # Log the loss and accuracy on the training set...\n",
    "    num_elem: int = 0\n",
    "    trackingmetric: float = 0\n",
    "    trackingcorrect: int = 0\n",
    "\n",
    "    model.eval()  # Remember to set the model in evaluation mode before evaluating it\n",
    "\n",
    "    # Since we are just evaluating the model, we don't need to compute gradients\n",
    "    with th.no_grad():\n",
    "        # ... by looping over training data again\n",
    "        for batch_idx, batched_datapoint_e in enumerate(train_loader):\n",
    "            x_e, y_e = batched_datapoint_e\n",
    "            x_e = x_e.to(device)\n",
    "            y_e = y_e.to(device)\n",
    "            modeltarget_e = model(x_e)  # Forward pass\n",
    "            prediction = (modeltarget_e >= model.final_threshold).float()   # Compute the prediction (0 or 1)  based on threshold\n",
    "            trackingmetric += CRITERION(modeltarget_e, y_e) # Compute the loss\n",
    "            trackingcorrect += prediction.eq(y_e).item()    # Compute the number of correct predictions\n",
    "            # print(f\"y_e: {y_e} | modeltarget_e: {modeltarget_e}, trackingcorrect: {trackingcorrect}\")\n",
    "            num_elem += x_e.shape[0]\n",
    "        eval_losses.append(trackingmetric / num_elem)\n",
    "        eval_acc.append(trackingcorrect / num_elem)\n",
    "\n",
    "    # Let's ignore for now what the next line does... 🙈\n",
    "    test_acc.append(\n",
    "        eval_model_on_test(\n",
    "            model, True, test_loader, device, th.nn.CrossEntropyLoss(), False\n",
    "        )\n",
    "    )"
   ]
  },
  {
   "cell_type": "code",
   "execution_count": 39,
   "metadata": {},
   "outputs": [
    {
     "data": {
      "image/png": "[encoded data removed]",
      "text/plain": [
       "<Figure size 640x480 with 2 Axes>"
      ]
     },
     "metadata": {},
     "output_type": "display_data"
    }
   ],
   "source": [
    "loss_color = \"tab:red\"\n",
    "acc_color = \"tab:blue\"\n",
    "\n",
    "fig, ax1 = plt.subplots()\n",
    "\n",
    "ax1.set_xlabel(\"Epoch\")\n",
    "ax1.set_ylabel(\"Loss\", color=loss_color)\n",
    "ax1.plot(eval_losses, color=loss_color)\n",
    "ax1.tick_params(axis=\"y\", labelcolor=loss_color)\n",
    "\n",
    "ax2 = ax1.twinx()\n",
    "ax2.set_ylabel(\"Accuracy\", color=acc_color)\n",
    "ax2.plot(eval_acc, color=acc_color)\n",
    "ax2.tick_params(axis=\"y\", labelcolor=acc_color)\n",
    "\n",
    "fig.tight_layout()\n",
    "\n",
    "plt.title(\"Training loss and accuracy\")\n",
    "plt.show()"
   ]
  },
  {
   "cell_type": "code",
   "execution_count": 40,
   "metadata": {},
   "outputs": [
    {
     "name": "stdout",
     "output_type": "stream",
     "text": [
      "Final training loss: 0.1746569573879242\n",
      "Final training accuracy: 0.6\n"
     ]
    }
   ],
   "source": [
    "print(f\"Final training loss: {eval_losses[-1]}\")\n",
    "print(f\"Final training accuracy: {eval_acc[-1]}\")"
   ]
  },
  {
   "cell_type": "code",
   "execution_count": 41,
   "metadata": {},
   "outputs": [
    {
     "name": "stdout",
     "output_type": "stream",
     "text": [
      "Layer: h1.weight | Dtype: torch.float32  | tensor([[-0.5785, -1.4610,  0.4071,  1.9556,  1.5933,  0.3464]])\n",
      "Layer: h1.bias | Dtype: torch.float32  | tensor([-0.1611])\n",
      "Layer: h2.weight | Dtype: torch.float32  | tensor([[-0.3801, -0.7434, -4.4286, -3.9702,  0.5425,  1.1042]])\n",
      "Layer: h2.bias | Dtype: torch.float32  | tensor([-0.0527])\n",
      "Layer: h3.weight | Dtype: torch.float32  | tensor([[2.4313, 4.5188]])\n",
      "Layer: h3.bias | Dtype: torch.float32  | tensor([-2.1963])\n"
     ]
    }
   ],
   "source": [
    "for name, param in model.named_parameters():\n",
    "    print(f\"Layer: {name} | Dtype: {param.dtype}  | {param.data}\")"
   ]
  }
 ],
 "metadata": {
  "kernelspec": {
   "display_name": "DL",
   "language": "python",
   "name": "python3"
  },
  "language_info": {
   "codemirror_mode": {
    "name": "ipython",
    "version": 3
   },
   "file_extension": ".py",
   "mimetype": "text/x-python",
   "name": "python",
   "nbconvert_exporter": "python",
   "pygments_lexer": "ipython3",
   "version": "3.12.2"
  }
 },
 "nbformat": 4,
 "nbformat_minor": 2
}
