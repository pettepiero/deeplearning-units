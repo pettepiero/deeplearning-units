{
 "cells": [
  {
   "cell_type": "markdown",
   "metadata": {},
   "source": [
    "# Deep Learning assignment #1"
   ]
  },
  {
   "cell_type": "markdown",
   "metadata": {},
   "source": [
    "### Learning mirror symmetries in 6-digits numbers"
   ]
  },
  {
   "cell_type": "markdown",
   "metadata": {},
   "source": [
    "Let us reproduce the experiment reported in the figure below"
   ]
  },
  {
   "cell_type": "code",
   "execution_count": 68,
   "metadata": {},
   "outputs": [],
   "source": [
    "import numpy as np\n",
    "import torch as th\n",
    "import pandas as pd\n",
    "from torch.utils.data import Dataset\n",
    "from torch.utils.data import DataLoader\n",
    "from torch import Tensor\n",
    "from matplotlib import pyplot as plt\n",
    "import seaborn as sns\n",
    "from icecream import ic\n",
    "import random\n",
    "import itertools\n",
    "from tqdm.auto import trange\n",
    "from ebtorch.nn.utils import eval_model_on_test\n",
    "\n",
    "from typing import List"
   ]
  },
  {
   "cell_type": "code",
   "execution_count": 40,
   "metadata": {},
   "outputs": [],
   "source": [
    "INPUT_SIZE = 6\n",
    "OUTPUT_SIZE = 1\n",
    "N_HIDDEN_UNITS = 2\n",
    "DATASET_SIZE = 400\n",
    "TRAIN_BATCH_SIZE = 1\n",
    "SYMMETRY_PERC = 50\n",
    "DEVICE_AUTODETECT: bool = True\n",
    "CRITERION = th.nn.MSELoss()\n",
    "NUM_ACCUMULATION_STEPS = 64\n",
    "ALPHA = 0.9\n",
    "N_EPOCHS = 1425"
   ]
  },
  {
   "cell_type": "code",
   "execution_count": 41,
   "metadata": {},
   "outputs": [],
   "source": [
    "# Let's detect and select the most appropriate device\n",
    "device: th.device = th.device(\n",
    "    \"cuda\" if th.cuda.is_available() and DEVICE_AUTODETECT else \"cpu\"\n",
    ")"
   ]
  },
  {
   "cell_type": "markdown",
   "metadata": {},
   "source": [
    "## Creating dataset"
   ]
  },
  {
   "cell_type": "markdown",
   "metadata": {},
   "source": [
    "According to the paper, the model is trained on 1425 sweeps through the **set of 64 possible input vectors**. Therefore, a first implementation was based on the generation and training over this set. The vectors contain either 0s or 1s, but the dataset dtype is `th.float32` for compatibility with `Pytorch`'s utils.\n",
    "\n",
    "The problem with this approach, however, is that there are only 8 symmetric combinations in the training dataset, i.e. only 12.5% of the vectors represent the symmetric class. This is a typical *data imbalance* problem, which was solved by creating a custom dataset of vectors containing a **given percentage of symmetric vectors**. In particular, the `SYMMETRY_PERC` constant is needed to specify this percentage. If this is not done, the model doesn't learn how to deal with the least represented class but the accuracy will remain high. In fact, if we denote by $p$ the number of data points of the most frequent class and by $n$ the lenght of the dataset, the accuracy will be equal to $\\frac{p}{n}$ if the model always predicts the frequent class. In this specific case $\\frac{p}{n} = 0.875$"
   ]
  },
  {
   "cell_type": "code",
   "execution_count": 42,
   "metadata": {},
   "outputs": [],
   "source": [
    "# Generating sets of symmetric and not symmetric vectors\n",
    "vectors = list(itertools.product([0, 1], repeat=6))\n",
    "symmetric_vectors = [vector for vector in vectors if vector[:3] == vector[3:][::-1]]\n",
    "not_symmetric_vectors = [vector for vector in vectors if vector not in symmetric_vectors]"
   ]
  },
  {
   "cell_type": "code",
   "execution_count": 43,
   "metadata": {},
   "outputs": [],
   "source": [
    "class SymDetDataset(Dataset):\n",
    "    \"\"\"Symmetry Detector Dataset: generates random vectors and labels them as symmetric or not\n",
    "    \n",
    "    Args:\n",
    "        tot_size (int): total number of samples to generate\n",
    "        sym_percentage (int): percentage of symmetric vectors to generate\n",
    "    \"\"\"\n",
    "\n",
    "    def __init__(self, tot_size: th.int = 100, sym_percentage: th.int =50):\n",
    "        data = []\n",
    "        labels = []\n",
    "\n",
    "        if sym_percentage <0 or sym_percentage > 100:\n",
    "            print(\"Error: invalid 'sym_percentage' parameter value. Should be number between 0 and 100.\")   # Just a little debug print\n",
    "\n",
    "        for _ in range(tot_size):\n",
    "            n = np.random.rand(1)*100\n",
    "            if n <= sym_percentage:\n",
    "                vector = random.choice(symmetric_vectors)\n",
    "            else:\n",
    "                vector = random.choice(not_symmetric_vectors)\n",
    "\n",
    "            data.append(vector)\n",
    "            labels.append(int(np.array_equal(vector[:3], vector[3:][::-1])))\n",
    "\n",
    "        data = np.array(data)\n",
    "        self.data = th.tensor(data).to(th.float32)      # Conversion for PyTorch compatibility\n",
    "        self.labels = th.tensor(labels).to(th.float32)\n",
    "\n",
    "    def __len__(self):      # Required methods for PyTorch Dataset\n",
    "        return len(self.data)\n",
    "\n",
    "    def __getitem__(self, index):\n",
    "        sample = self.data[index]\n",
    "        label = self.labels[index]\n",
    "        return sample, label"
   ]
  },
  {
   "cell_type": "code",
   "execution_count": 44,
   "metadata": {},
   "outputs": [],
   "source": [
    "# Dataset which contains all possible combinations of 6 binary digits\n",
    "class AllPossibleVectorsDataset(Dataset):\n",
    "    \"\"\"AllPossibleVectorsDataset: generates all possible combinations of 6 binary digits and labels them as symmetric or not.\"\"\"\n",
    "\n",
    "    def __init__(self):\n",
    "        data = []\n",
    "        labels = []\n",
    "\n",
    "        # Generate all possible combinations of 6 binary digits\n",
    "        for vector in itertools.product([0, 1], repeat=6):\n",
    "            data.append(vector)\n",
    "            labels.append(int(np.array_equal(vector[:3], vector[3:][::-1])))\n",
    "\n",
    "        data = np.array(data)\n",
    "        self.data = th.tensor(data).to(th.float32)      # Conversion for PyTorch compatibility\n",
    "        self.labels = th.tensor(labels).to(th.float32)\n",
    "\n",
    "    def __len__(self):  # Required methods for PyTorch Dataset\n",
    "        return len(self.data)\n",
    "\n",
    "    def __getitem__(self, index):\n",
    "        sample = self.data[index]\n",
    "        label = self.labels[index]\n",
    "        return sample, label"
   ]
  },
  {
   "cell_type": "markdown",
   "metadata": {},
   "source": [
    "The following cell is to use the SymDetDataset datasest generator"
   ]
  },
  {
   "cell_type": "code",
   "execution_count": 45,
   "metadata": {},
   "outputs": [],
   "source": [
    "train_dataset = SymDetDataset(tot_size=DATASET_SIZE, sym_percentage=SYMMETRY_PERC)\n",
    "train_loader = DataLoader(train_dataset, batch_size=TRAIN_BATCH_SIZE, shuffle=True)\n",
    "\n",
    "test_dataset = SymDetDataset(tot_size=int(DATASET_SIZE * 0.2), sym_percentage=50)\n",
    "test_loader = DataLoader(test_dataset, batch_size=TRAIN_BATCH_SIZE, shuffle=True)"
   ]
  },
  {
   "cell_type": "markdown",
   "metadata": {},
   "source": [
    "The following cell is to use the AllPossibleVectorsDataset dataset generator"
   ]
  },
  {
   "cell_type": "code",
   "execution_count": 46,
   "metadata": {},
   "outputs": [],
   "source": [
    "# train_dataset = AllPossibleVectorsDataset()\n",
    "# train_loader = DataLoader(train_dataset, batch_size=TRAIN_BATCH_SIZE, shuffle=False)\n",
    "\n",
    "# test_dataset = AllPossibleVectorsDataset()\n",
    "# test_loader = DataLoader(test_dataset, batch_size=TRAIN_BATCH_SIZE, shuffle=False)"
   ]
  },
  {
   "cell_type": "markdown",
   "metadata": {},
   "source": [
    "## Model definition"
   ]
  },
  {
   "cell_type": "markdown",
   "metadata": {},
   "source": [
    "<div>\n",
    "<img src=\"./images/fig1.png\" width=\"500\"/>\n",
    "</div>"
   ]
  },
  {
   "cell_type": "markdown",
   "metadata": {},
   "source": [
    "The model in the figure above has 6 input units that are ideologically split in 2 groups of 3 units each. All the input units are connected to 2 hidden units, that compose the hidden layer. The hidden units are connected to the output unit, which is the only one in the output layer."
   ]
  },
  {
   "cell_type": "code",
   "execution_count": 47,
   "metadata": {},
   "outputs": [],
   "source": [
    "class SymmetryDetector(th.nn.Module):\n",
    "    def __init__(self, final_threshold: float = 0.5):\n",
    "        super().__init__()\n",
    "        self.final_threshold = final_threshold\n",
    "\n",
    "        self.h: th.nn.Module = th.nn.Linear(\n",
    "            in_features=INPUT_SIZE, out_features=N_HIDDEN_UNITS, bias=True)\n",
    "        self.out: th.nn.Module = th.nn.Linear(\n",
    "            in_features=N_HIDDEN_UNITS, out_features=OUTPUT_SIZE, bias=True)\n",
    "\n",
    "    def forward(self, x_: th.Tensor) -> th.float:\n",
    "        x = self.h(x_)\n",
    "        x = th.nn.functional.sigmoid(x)\n",
    "        y = self.out(x)\n",
    "        y = th.nn.functional.sigmoid(y) # Final sigmoid to get the output in [0,1]\n",
    "\n",
    "        return y"
   ]
  },
  {
   "cell_type": "code",
   "execution_count": 48,
   "metadata": {},
   "outputs": [],
   "source": [
    "model = SymmetryDetector().to(device)"
   ]
  },
  {
   "cell_type": "markdown",
   "metadata": {},
   "source": [
    "## Weights initialization, loss function and optimizer"
   ]
  },
  {
   "cell_type": "markdown",
   "metadata": {},
   "source": [
    "<div>\n",
    "<img src=\"./images/parameters.png\" width=\"500\"/>\n",
    "</div>"
   ]
  },
  {
   "cell_type": "markdown",
   "metadata": {},
   "source": [
    "Weights are initialized according to the experiment in the paper, i.e. with a uniform distribution in the range $[-0.3, 0.3]$. The bias is initialized to 0."
   ]
  },
  {
   "cell_type": "code",
   "execution_count": 49,
   "metadata": {},
   "outputs": [
    {
     "name": "stdout",
     "output_type": "stream",
     "text": [
      "Layer: h.weight | Dtype: torch.float32  | tensor([[ 0.1377, -0.0743,  0.2186,  0.1706, -0.0018,  0.0014],\n",
      "        [ 0.1734,  0.0601,  0.2133, -0.0479,  0.1705, -0.1186]])\n",
      "Layer: h.bias | Dtype: torch.float32  | tensor([0., 0.])\n",
      "Layer: out.weight | Dtype: torch.float32  | tensor([[0.2122, 0.0105]])\n",
      "Layer: out.bias | Dtype: torch.float32  | tensor([0.])\n"
     ]
    }
   ],
   "source": [
    "# Define the custom weight initialization function\n",
    "def init_weights_uniform_custom_range(m):\n",
    "    if isinstance(m, th.nn.Linear):\n",
    "        # Define the custom range for the uniform distribution\n",
    "        custom_range_min = -0.3\n",
    "        custom_range_max = 0.3\n",
    "        # Apply uniform initialization to the weights of the linear layer\n",
    "        th.nn.init.uniform_(m.weight, a=custom_range_min, b=custom_range_max)\n",
    "        # Initialize biases, if present\n",
    "        if m.bias is not None:\n",
    "            th.nn.init.constant_(m.bias, 0.0)\n",
    "\n",
    "model.apply(init_weights_uniform_custom_range)\n",
    "for name, param in model.named_parameters():\n",
    "    print(f\"Layer: {name} | Dtype: {param.dtype}  | {param.data}\")"
   ]
  },
  {
   "cell_type": "markdown",
   "metadata": {},
   "source": [
    "The loss function is the Mean Squared Error (MSE) loss, as described in the paper. The optimizer is the Stochastic Gradient Descent (SGD) with a learning rate of $\\alpha = 0.9$. The variant of SGD used is the one implemented in `Pytorch` with no momentum. Therefore, there can be differences in the results with respect to the paper. The number of epochs is set to 1425, because this is the value that is reported in the experiment."
   ]
  },
  {
   "cell_type": "code",
   "execution_count": 50,
   "metadata": {},
   "outputs": [],
   "source": [
    "loss: th.nn.Module = th.nn.MSELoss()\n",
    "optimizer: th.optim.Optimizer = th.optim.SGD(\n",
    "    params=model.parameters(), momentum=0, lr=ALPHA\n",
    ")"
   ]
  },
  {
   "cell_type": "markdown",
   "metadata": {},
   "source": [
    "## Training loop\n",
    "In our case the model is trained on the dataset described above, using SGD. The choice has been made to compute the gradient on one point at each time and accumulate the gradients of 64 points, as specified by `NUM_ACCUMULATION_STEPS`. Note that nothing guarantees the model to see all the possible input vectors before updating the parameters in each iteration. \n",
    "\n",
    "```\n",
    "Loop over epochs:\n",
    "    Loop over training dataset:\n",
    "        Perform a forward pass\n",
    "        Compute the loss on current point\n",
    "        Accumulate gradient calculated on current point\n",
    "        if accumulated gradients are enough:\n",
    "            Update model parameters based on accumulated gradient and reset gradient\n",
    "    Update model parameters based on accumulated gradient and reset gradient\n",
    "    Perform model evaluation and store the results\n",
    "```"
   ]
  },
  {
   "cell_type": "markdown",
   "metadata": {},
   "source": [
    "## Training"
   ]
  },
  {
   "cell_type": "code",
   "execution_count": 51,
   "metadata": {},
   "outputs": [
    {
     "name": "stderr",
     "output_type": "stream",
     "text": [
      "Training epoch:   0%|          | 0/1425 [00:00<?, ?it/s]/home/pettepiero/local/envs/DL/lib/python3.12/site-packages/torch/nn/modules/loss.py:535: UserWarning: Using a target size (torch.Size([1])) that is different to the input size (torch.Size([1, 1])). This will likely lead to incorrect results due to broadcasting. Please ensure they have the same size.\n",
      "  return F.mse_loss(input, target, reduction=self.reduction)\n",
      "Training epoch: 100%|██████████| 1425/1425 [02:58<00:00,  8.00it/s]\n"
     ]
    }
   ],
   "source": [
    "eval_losses: List[float] = []\n",
    "eval_acc: List[float] = []\n",
    "test_acc: List[float] = []\n",
    "\n",
    "for epoch in trange(N_EPOCHS, desc=\"Training epoch\"):\n",
    "    model.train()\n",
    "\n",
    "    optimizer.zero_grad() # Reset the gradients for next accumulation\n",
    "    for batch_idx, batch in enumerate(train_loader):\n",
    "        x, y = batch\n",
    "        x, y = x.to(device), y.to(device)\n",
    "        yhat = model(x)\n",
    "        loss = CRITERION(yhat, y)\n",
    "        loss = loss / NUM_ACCUMULATION_STEPS\n",
    "        loss.backward()\n",
    "        \n",
    "        if (batch_idx + 1) % NUM_ACCUMULATION_STEPS == 0:\n",
    "            optimizer.step()\n",
    "            optimizer.zero_grad() # Reset the gradients for next accumulation\n",
    "    \n",
    "    # Log the loss and accuracy on the training set...\n",
    "    num_elem: int = 0\n",
    "    trackingmetric: float = 0\n",
    "    trackingcorrect: int = 0\n",
    "\n",
    "    model.eval()  # Remember to set the model in evaluation mode before evaluating it\n",
    "\n",
    "    # Since we are just evaluating the model, we don't need to compute gradients\n",
    "    with th.no_grad():\n",
    "        # ... by looping over training data again\n",
    "        for batch_idx, batched_datapoint_e in enumerate(train_loader):\n",
    "            x_e, y_e = batched_datapoint_e\n",
    "            x_e = x_e.to(device)\n",
    "            y_e = y_e.to(device)\n",
    "            modeltarget_e = model(x_e)  # Forward pass\n",
    "            prediction = (modeltarget_e >= model.final_threshold).float()   # Compute the prediction (0 or 1)  based on threshold\n",
    "            trackingmetric += CRITERION(modeltarget_e, y_e) # Compute the loss\n",
    "            trackingcorrect += prediction.eq(y_e).item()    # Compute the number of correct predictions\n",
    "            # print(f\"y_e: {y_e} | modeltarget_e: {modeltarget_e}, trackingcorrect: {trackingcorrect}\")\n",
    "            num_elem += x_e.shape[0]\n",
    "        eval_losses.append(trackingmetric / num_elem)\n",
    "        eval_acc.append(trackingcorrect / num_elem)\n",
    "\n",
    "    # Test dataset evaluation\n",
    "    with th.no_grad():\n",
    "        trackingcorrect = 0  # Reset trackingcorrect to zero\n",
    "        num_elem = 0  # Reset num_elem to zero\n",
    "        for _, batched_datapoint_e in enumerate(test_loader):\n",
    "            x_e, y_e = batched_datapoint_e\n",
    "            x_e, y_e = x_e.to(device), y_e.to(device)\n",
    "            modeltarget_e = model(x_e)\n",
    "            prediction = (modeltarget_e >= model.final_threshold).float()\n",
    "            trackingcorrect += prediction.eq(y_e).item()\n",
    "            num_elem += x_e.shape[0]\n",
    "            \n",
    "        test_acc.append(trackingcorrect / num_elem)"
   ]
  },
  {
   "cell_type": "markdown",
   "metadata": {},
   "source": [
    "## Results"
   ]
  },
  {
   "cell_type": "markdown",
   "metadata": {},
   "source": [
    "Below we plot the test accuracy and the loss function over the epochs on the test set. The test dataset is generated using the same procedure as the training dataset, but with a fixed percentage of symmetric vectors equal to 50%."
   ]
  },
  {
   "cell_type": "code",
   "execution_count": 52,
   "metadata": {},
   "outputs": [],
   "source": [
    "# test_acc: List[float] = []\n",
    "# with th.no_grad():\n",
    "#     trackingcorrect = 0  # Reset trackingcorrect to zero\n",
    "#     num_elem = 0  # Reset num_elem to zero\n",
    "#     for _, batched_datapoint_e in enumerate(test_loader):\n",
    "#         x_e, y_e = batched_datapoint_e\n",
    "#         x_e, y_e = x_e.to(device), y_e.to(device)\n",
    "#         modeltarget_e = model(x_e)\n",
    "#         prediction = (modeltarget_e >= model.final_threshold).float()\n",
    "#         trackingcorrect += prediction.eq(y_e).item()\n",
    "#         num_elem += x_e.shape[0]\n",
    "        \n",
    "#     test_acc.append(trackingcorrect / num_elem)"
   ]
  },
  {
   "cell_type": "code",
   "execution_count": 53,
   "metadata": {},
   "outputs": [
    {
     "data": {
      "image/png": "[encoded data removed]",
      "text/plain": [
       "<Figure size 640x480 with 2 Axes>"
      ]
     },
     "metadata": {},
     "output_type": "display_data"
    }
   ],
   "source": [
    "loss_color = \"tab:red\"\n",
    "acc_color = \"tab:blue\"\n",
    "\n",
    "fig, ax1 = plt.subplots()\n",
    "\n",
    "ax1.set_xlabel(\"Epoch\")\n",
    "ax1.set_ylabel(\"Loss\", color=loss_color)\n",
    "ax1.plot(eval_losses, color=loss_color)\n",
    "ax1.tick_params(axis=\"y\", labelcolor=loss_color)\n",
    "\n",
    "ax2 = ax1.twinx()\n",
    "ax2.set_ylabel(\"Accuracy\", color=acc_color)\n",
    "ax2.plot(eval_acc, color=acc_color)\n",
    "ax2.tick_params(axis=\"y\", labelcolor=acc_color)\n",
    "\n",
    "fig.tight_layout()\n",
    "\n",
    "plt.title(\"Training loss and accuracy\")\n",
    "plt.show()"
   ]
  },
  {
   "cell_type": "code",
   "execution_count": 54,
   "metadata": {},
   "outputs": [
    {
     "data": {
      "image/png": "[encoded data removed]",
      "text/plain": [
       "<Figure size 640x480 with 1 Axes>"
      ]
     },
     "metadata": {},
     "output_type": "display_data"
    }
   ],
   "source": [
    "# Let's plot the accuracy on the train vs test set\n",
    "\n",
    "fig, ax = plt.subplots()\n",
    "\n",
    "ax.set_xlabel(\"Epoch\")\n",
    "ax.set_ylabel(\"Accuracy\")\n",
    "ax.plot(eval_acc, label=\"Train\", color=\"tab:blue\")\n",
    "ax.plot(test_acc, label=\"Test\", color=\"tab:orange\")\n",
    "ax.legend()\n",
    "\n",
    "plt.title(\"Training vs. Test accuracy\")\n",
    "plt.show()"
   ]
  },
  {
   "cell_type": "code",
   "execution_count": 55,
   "metadata": {},
   "outputs": [
    {
     "name": "stdout",
     "output_type": "stream",
     "text": [
      "Final training loss: 0.019153645262122154\n",
      "Final training accuracy: 0.9825\n",
      "Final test accuracy: 0.9875\n"
     ]
    }
   ],
   "source": [
    "print(f\"Final training loss: {eval_losses[-1]}\")\n",
    "print(f\"Final training accuracy: {eval_acc[-1]}\")\n",
    "\n",
    "print(f\"Final test accuracy: {test_acc[-1]}\")"
   ]
  },
  {
   "cell_type": "markdown",
   "metadata": {},
   "source": [
    "The model obtains a test accuracy of roughly 0.75. The loss function decreases over the epochs, as expected. The model is able to learn the mirror symmetry in the input vectors, as shown by the high test accuracy. It doesn't seem worth to increase the number of epochs, as the model has already reached stable accuracy."
   ]
  },
  {
   "cell_type": "markdown",
   "metadata": {},
   "source": [
    "## Learnt weights"
   ]
  },
  {
   "cell_type": "markdown",
   "metadata": {},
   "source": [
    "The learnt weights are printed and plotted using the following cells:"
   ]
  },
  {
   "cell_type": "code",
   "execution_count": 116,
   "metadata": {},
   "outputs": [
    {
     "name": "stdout",
     "output_type": "stream",
     "text": [
      "Hidden layer weights: [[ 2.892298   9.909023   4.118337  -4.134944  -9.9485855 -2.9672394]\n",
      " [ 3.7511694  8.907378   2.541247  -2.6011724 -9.011982  -3.9018178]]\n",
      "Hidden layer bias: [ 1.8783349 -1.5848932]\n",
      "Output layer weights: [[ 11.663446 -12.590435]]\n",
      "Output layer bias: [-5.0080094]\n"
     ]
    }
   ],
   "source": [
    "learnt_weights = model.parameters().__iter__()\n",
    "hidden_layer_weights = learnt_weights.__next__().data.numpy()\n",
    "hidden_layer_bias = learnt_weights.__next__().data.numpy()\n",
    "output_layer_weights = learnt_weights.__next__().data.numpy()\n",
    "output_layer_bias = learnt_weights.__next__().data.numpy()\n",
    "\n",
    "print(f\"Hidden layer weights: {hidden_layer_weights}\")\n",
    "print(f\"Hidden layer bias: {hidden_layer_bias}\")\n",
    "print(f\"Output layer weights: {output_layer_weights}\")\n",
    "print(f\"Output layer bias: {output_layer_bias}\")\n",
    "\n",
    "\n",
    "hidden_layer_df = pd.DataFrame(\n",
    "    hidden_layer_weights,\n",
    "    columns=[f\"Weight_{i+1}\" for i in range(hidden_layer_weights.shape[1])],\n",
    ")\n",
    "hidden_layer_df[\"Bias\"] = hidden_layer_bias\n",
    "\n",
    "def create_paired_weights_df(row):\n",
    "    return pd.DataFrame(\n",
    "        {\n",
    "            \"Weights 1 & 6\": row[[\"Weight_1\", \"Weight_6\"]].values.flatten(),\n",
    "            \"Weights 2 & 5\": row[[\"Weight_2\", \"Weight_5\"]].values.flatten(),\n",
    "            \"Weights 3 & 4\": row[[\"Weight_3\", \"Weight_4\"]].values.flatten(),\n",
    "        }\n",
    "    )\n",
    "\n",
    "paired_weights_df_n1 = create_paired_weights_df(hidden_layer_df.iloc[0])\n",
    "paired_weights_df_n2 = create_paired_weights_df(hidden_layer_df.iloc[1])\n",
    "\n",
    "# Melt the dataframes and add a source column\n",
    "def melt_and_add_source(df, source):\n",
    "    melted_df = df.melt(var_name=\"Pair\", value_name=\"Value\")\n",
    "    melted_df[\"Source\"] = source\n",
    "    return melted_df\n",
    "\n",
    "\n",
    "paired_weights_melted_1 = melt_and_add_source(paired_weights_df_n1, \"Hidden unit 1\")\n",
    "paired_weights_melted_2 = melt_and_add_source(paired_weights_df_n2, \"Hidden unit 2\")\n",
    "\n",
    "# Combine the two melted dataframes into one and plot\n",
    "combined_df = pd.concat([paired_weights_melted_1, paired_weights_melted_2])\n",
    "\n",
    "del paired_weights_df_n1\n",
    "del paired_weights_df_n2\n",
    "del paired_weights_melted_1\n",
    "del paired_weights_melted_2"
   ]
  },
  {
   "cell_type": "code",
   "execution_count": 118,
   "metadata": {},
   "outputs": [
    {
     "data": {
      "image/png": "[encoded data removed]",
      "text/plain": [
       "<Figure size 800x700 with 1 Axes>"
      ]
     },
     "metadata": {},
     "output_type": "display_data"
    }
   ],
   "source": [
    "sns.set_style(\"whitegrid\")\n",
    "sns.set_context(\"notebook\")\n",
    "\n",
    "plt.figure(figsize=(8, 7))\n",
    "scatter_plot = sns.scatterplot(\n",
    "    data=combined_df, x=\"Value\", y=\"Pair\", hue=\"Source\", palette=\"deep\", s=100,\n",
    ")\n",
    "plt.title(\"Weights of hidden layer\", fontsize=20)\n",
    "plt.xlabel(\"Value\", fontsize=14)\n",
    "plt.ylabel(\"Pair\", fontsize=14, rotation=0, labelpad=30)\n",
    "plt.legend(fontsize=12, loc=\"upper right\")\n",
    "plt.grid(False)\n",
    "plt.axvline(x=combined_df[\"Value\"].mean(), linestyle=\"--\")\n",
    "plt.show()"
   ]
  },
  {
   "cell_type": "markdown",
   "metadata": {},
   "source": [
    "The model automatically learnt symmetric weights, even if not perfectly. The learnt biases for the hidden layer are not both negative, but this is taken into account with the learnt weights of the output layers. These are of opposite sign and have the same final effect as in the experiment."
   ]
  },
  {
   "cell_type": "markdown",
   "metadata": {},
   "source": []
  }
 ],
 "metadata": {
  "kernelspec": {
   "display_name": "DL",
   "language": "python",
   "name": "python3"
  },
  "language_info": {
   "codemirror_mode": {
    "name": "ipython",
    "version": 3
   },
   "file_extension": ".py",
   "mimetype": "text/x-python",
   "name": "python",
   "nbconvert_exporter": "python",
   "pygments_lexer": "ipython3",
   "version": "3.12.2"
  }
 },
 "nbformat": 4,
 "nbformat_minor": 2
}
